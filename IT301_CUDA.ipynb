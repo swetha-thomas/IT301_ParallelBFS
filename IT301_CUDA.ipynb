{
  "nbformat": 4,
  "nbformat_minor": 0,
  "metadata": {
    "colab": {
      "provenance": [],
      "collapsed_sections": []
    },
    "kernelspec": {
      "name": "python3",
      "display_name": "Python 3"
    },
    "language_info": {
      "name": "python"
    },
    "accelerator": "GPU",
    "gpuClass": "standard"
  },
  "cells": [
    {
      "cell_type": "code",
      "source": [],
      "metadata": {
        "id": "TzKXNaD9wwOA"
      },
      "execution_count": 8,
      "outputs": []
    },
    {
      "cell_type": "code",
      "execution_count": 9,
      "metadata": {
        "colab": {
          "base_uri": "https://localhost:8080/"
        },
        "id": "MpRfg9Pg3evJ",
        "outputId": "1392adea-234a-4b87-a4b5-bd466f80e9bd"
      },
      "outputs": [
        {
          "output_type": "stream",
          "name": "stdout",
          "text": [
            "nvcc: NVIDIA (R) Cuda compiler driver\n",
            "Copyright (c) 2005-2021 NVIDIA Corporation\n",
            "Built on Sun_Feb_14_21:12:58_PST_2021\n",
            "Cuda compilation tools, release 11.2, V11.2.152\n",
            "Build cuda_11.2.r11.2/compiler.29618528_0\n"
          ]
        }
      ],
      "source": [
        "!nvcc --version\n"
      ]
    },
    {
      "cell_type": "code",
      "source": [
        "!pip install git+https://github.com/andreinechaev/nvcc4jupyter.git"
      ],
      "metadata": {
        "colab": {
          "base_uri": "https://localhost:8080/"
        },
        "id": "UYL3dKSy39FD",
        "outputId": "168a9664-a8fe-48fc-d6c1-637e0fdc78ce"
      },
      "execution_count": 10,
      "outputs": [
        {
          "output_type": "stream",
          "name": "stdout",
          "text": [
            "Looking in indexes: https://pypi.org/simple, https://us-python.pkg.dev/colab-wheels/public/simple/\n",
            "Collecting git+https://github.com/andreinechaev/nvcc4jupyter.git\n",
            "  Cloning https://github.com/andreinechaev/nvcc4jupyter.git to /tmp/pip-req-build-jrumm1s5\n",
            "  Running command git clone -q https://github.com/andreinechaev/nvcc4jupyter.git /tmp/pip-req-build-jrumm1s5\n"
          ]
        }
      ]
    },
    {
      "cell_type": "code",
      "source": [
        "%load_ext nvcc_plugin"
      ],
      "metadata": {
        "colab": {
          "base_uri": "https://localhost:8080/"
        },
        "id": "meF9GeCF4CQN",
        "outputId": "563bc7a6-5805-4bb5-847f-823e76882f09"
      },
      "execution_count": 11,
      "outputs": [
        {
          "output_type": "stream",
          "name": "stdout",
          "text": [
            "The nvcc_plugin extension is already loaded. To reload it, use:\n",
            "  %reload_ext nvcc_plugin\n"
          ]
        }
      ]
    },
    {
      "cell_type": "code",
      "source": [
        "%%cu\n",
        "#include <cstdlib>\n",
        "#include <iostream>\n",
        "#include <time.h>\n",
        "\n",
        "using namespace std;\n",
        "\n",
        "__global__ void kernel(bool* adj_mat, const int N, bool* visited, int* frontier, bool* new_frontier){\n",
        "\tint row_idx = frontier[blockIdx.x+1]; \n",
        "\tlong offset = N * row_idx;\n",
        "\n",
        "\t// update new_frontier in threads\n",
        "\tint col_idx = threadIdx.x;\t\n",
        "\tif(adj_mat[offset + col_idx] && !visited[col_idx]){\n",
        "\t\tnew_frontier[col_idx] = true;\n",
        "\t}\n",
        "}\n",
        "__global__ void k2(const int N, bool* visited, int* frontier, bool* new_frontier){\n",
        "\tint cn = 0;\n",
        "\tfor(int i=0;i<N;i++){\n",
        "\t\tif(new_frontier[i]){\n",
        "\t\t\tnew_frontier[i] = false;\n",
        "\t\t\tfrontier[++cn] = i;\n",
        "\t\t\tvisited[i] = true;\n",
        "\t\t}\n",
        "\t}\n",
        "\tfrontier[0] = cn;\n",
        "}\n",
        "\n",
        "int main(int arg, char** argv){\n",
        " \n",
        "\n",
        "\tconst int N = 15;\n",
        "\tconst int EDGE_NUM = 25; // exist_edges / N^2\n",
        "\tcout<<\"generating graph of size \"<<N<<\"; edge number: \"<<EDGE_NUM<<endl;\n",
        "\n",
        "\tint** adj_mat = (int**)malloc(N*sizeof(int*));\n",
        "\tfor(int row=0; row<N; row++)\n",
        "\t\tadj_mat[row] = (int*)malloc(N*sizeof(int));\n",
        "\tfor(int i=0;i<N;i++)\n",
        "\t\tfor(int j=0;j<N;j++)\n",
        "\t\t\tadj_mat[i][j]  = 0;\n",
        "\n",
        "\tint n = EDGE_NUM;\n",
        "\twhile(n>0){\n",
        "\t\tint u = rand()%N;\n",
        "\t\tint v = rand()%N;\n",
        "\t\tif(adj_mat[u][v]==0 && u!=v){\n",
        "\t\t\tadj_mat[u][v] = 1;\n",
        "\t\t\tn--;\n",
        "\t\t}\n",
        "\t}\n",
        "\n",
        "\tfor(int i=0;i<N;i++){\n",
        "\t\tfor(int j=0;j<N;j++){\n",
        "\t\t\tcout<<adj_mat[i][j]<<' ';\n",
        "\t\t}\n",
        "\t\tcout<<endl;\n",
        "\t}\n",
        "\n",
        "\n",
        "\n",
        "\t//read graph from <input>.txt\n",
        "\tbool* h_adj_mat = (bool*)malloc(N*N*sizeof(bool));\n",
        "\tfor(int i=0;i<N*N;i++){\n",
        "\t\tstring a;\n",
        "\t\tcin>>a;\n",
        "\t\tif(a==\"1\") h_adj_mat[i] = true;\n",
        "\t\telse h_adj_mat[i] = false;\t\t\n",
        "\t}\n",
        "\n",
        "\t//generate visited and frontier vector; init them with node 0;\n",
        "\tbool* h_visited = (bool*)malloc(N*sizeof(bool));\n",
        "\tfor(int i=0;i<N;i++) h_visited[i] = false;\n",
        "\tint* h_frontier = (int*)malloc(N*sizeof(int));\n",
        "\tbool* h_new_frontier = (bool*)malloc(N*sizeof(bool));\n",
        "\tfor(int i=0;i<N;i++) h_new_frontier[i] = false;\n",
        "\n",
        "\th_visited[0] = true;\n",
        "\th_frontier[0] = 1;\n",
        "\th_frontier[1] = 0;\n",
        "\t\n",
        "\t//malloc mem in gpu\n",
        "\tclock_t start,end, s, e;\n",
        "\tstart = clock();\n",
        "\tbool *d_adj_mat, *d_visited, *d_new_frontier;\n",
        "\tint *d_frontier;\n",
        "\tcudaMalloc((void**) &d_adj_mat, sizeof(bool) * N * N);\n",
        "\tcudaMemcpy((void*) d_adj_mat, (void*) h_adj_mat, sizeof(bool)*N*N, cudaMemcpyHostToDevice);\n",
        "\t\n",
        "\tcudaMalloc((void**) &d_visited, sizeof(bool) * N);\n",
        "\tcudaMemcpy((void*) d_visited, (void*) h_visited, sizeof(bool)*N, cudaMemcpyHostToDevice);\n",
        "\t\n",
        "\tcudaMalloc((void**) &d_frontier, sizeof(int) * (N+1));\n",
        "\tcudaMemcpy((void*) d_frontier, (void*) h_frontier, sizeof(int)*N, cudaMemcpyHostToDevice);\n",
        "\t\n",
        "\tcudaMalloc((void**) &d_new_frontier, sizeof(bool) * N);\n",
        "\tcudaMemcpy((void*) d_new_frontier, (void*) h_new_frontier, sizeof(bool)*N, cudaMemcpyHostToDevice);\n",
        "\n",
        "\t//loop until frontier vector is empty \n",
        "\tint cn =1;\n",
        "\tdouble t=0;\n",
        "\twhile(h_frontier[0]!=0){\n",
        "\t\tcn+=h_frontier[0];\n",
        "\t\t//lauch kernel : launch threads to update frontier_len, visited and frontier in gpu local mem\n",
        "\t\ts= clock();\n",
        "\t\tkernel<<<h_frontier[0], N>>>(d_adj_mat,N,d_visited,d_frontier, d_new_frontier);\n",
        "\t\t\n",
        "\t\tk2<<<1,1>>>(N, d_visited,d_frontier, d_new_frontier);\n",
        "\t\te=clock();\n",
        "\t\tt+=double(e-s);\n",
        "\n",
        "\t\tcudaMemcpy((void*) h_frontier, (void*) d_frontier, sizeof(int)*1, cudaMemcpyDeviceToHost);\n",
        "\t}\n",
        "\tend = clock();\n",
        "\n",
        "\tcout << \"parallel BFS uses \" << double(end - start) << \" us in total\"<< endl;\n",
        "\n",
        "\n",
        "\n",
        "\treturn 0;\n",
        "}"
      ],
      "metadata": {
        "id": "Z7iJPj_o4GKb",
        "colab": {
          "base_uri": "https://localhost:8080/"
        },
        "outputId": "eee803dc-9904-46c5-e2bb-648566fb7c14"
      },
      "execution_count": 12,
      "outputs": [
        {
          "output_type": "stream",
          "name": "stdout",
          "text": [
            "generating graph of size 15; edge number: 25\n",
            "0 0 0 0 0 0 1 0 0 0 0 0 0 0 0 \n",
            "0 0 0 0 0 1 0 1 0 0 0 0 1 0 0 \n",
            "0 0 0 0 0 1 0 1 0 0 0 0 0 1 0 \n",
            "0 0 0 0 0 0 0 0 0 0 0 0 0 0 0 \n",
            "0 0 0 0 0 0 0 0 0 0 0 0 0 0 0 \n",
            "1 0 0 0 1 0 0 0 0 0 0 0 0 0 0 \n",
            "0 0 0 0 0 0 0 0 0 0 0 0 0 0 1 \n",
            "0 1 0 0 0 0 0 0 0 0 1 0 0 0 0 \n",
            "0 1 0 0 0 0 0 0 0 0 1 0 0 0 1 \n",
            "0 1 0 1 0 0 0 0 0 0 0 0 0 0 0 \n",
            "0 0 0 0 0 0 0 0 0 0 0 0 0 0 0 \n",
            "0 0 0 1 0 0 0 0 1 0 0 0 0 0 0 \n",
            "0 0 0 1 0 0 0 0 0 1 1 0 0 0 0 \n",
            "0 1 0 0 0 0 0 0 0 0 0 0 0 0 0 \n",
            "0 0 0 0 0 0 0 1 0 0 0 0 1 0 0 \n",
            "parallel BFS uses 252707 us in total\n",
            "\n"
          ]
        }
      ]
    },
    {
      "cell_type": "code",
      "source": [
        "\n",
        "\t"
      ],
      "metadata": {
        "id": "svZktGbLxL8p"
      },
      "execution_count": 12,
      "outputs": []
    },
    {
      "cell_type": "code",
      "source": [],
      "metadata": {
        "id": "Rgm_7YjVIkBZ"
      },
      "execution_count": 12,
      "outputs": []
    }
  ]
}