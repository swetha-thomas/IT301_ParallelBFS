{
  "nbformat": 4,
  "nbformat_minor": 0,
  "metadata": {
    "colab": {
      "provenance": [],
      "collapsed_sections": []
    },
    "kernelspec": {
      "name": "python3",
      "display_name": "Python 3"
    },
    "language_info": {
      "name": "python"
    },
    "accelerator": "GPU",
    "gpuClass": "standard"
  },
  "cells": [
    {
      "cell_type": "code",
      "source": [],
      "metadata": {
        "colab": {
          "base_uri": "https://localhost:8080/"
        },
        "id": "TzKXNaD9wwOA",
        "outputId": "2356cec6-5a81-4c4b-90ed-3e1d38cb3f1a"
      },
      "execution_count": null,
      "outputs": [
        {
          "output_type": "stream",
          "name": "stdout",
          "text": [
            "hi\n"
          ]
        }
      ]
    },
    {
      "cell_type": "code",
      "execution_count": null,
      "metadata": {
        "colab": {
          "base_uri": "https://localhost:8080/"
        },
        "id": "MpRfg9Pg3evJ",
        "outputId": "9ab1bcde-08b1-4705-c872-46a3a7e7d75f"
      },
      "outputs": [
        {
          "output_type": "stream",
          "name": "stdout",
          "text": [
            "nvcc: NVIDIA (R) Cuda compiler driver\n",
            "Copyright (c) 2005-2021 NVIDIA Corporation\n",
            "Built on Sun_Feb_14_21:12:58_PST_2021\n",
            "Cuda compilation tools, release 11.2, V11.2.152\n",
            "Build cuda_11.2.r11.2/compiler.29618528_0\n"
          ]
        }
      ],
      "source": [
        "!nvcc --version\n"
      ]
    },
    {
      "cell_type": "code",
      "source": [
        "!pip install git+https://github.com/andreinechaev/nvcc4jupyter.git"
      ],
      "metadata": {
        "colab": {
          "base_uri": "https://localhost:8080/"
        },
        "id": "UYL3dKSy39FD",
        "outputId": "fde36139-cb9a-46b2-a388-e03c40953c53"
      },
      "execution_count": null,
      "outputs": [
        {
          "output_type": "stream",
          "name": "stdout",
          "text": [
            "Looking in indexes: https://pypi.org/simple, https://us-python.pkg.dev/colab-wheels/public/simple/\n",
            "Collecting git+https://github.com/andreinechaev/nvcc4jupyter.git\n",
            "  Cloning https://github.com/andreinechaev/nvcc4jupyter.git to /tmp/pip-req-build-k0k4y6tv\n",
            "  Running command git clone -q https://github.com/andreinechaev/nvcc4jupyter.git /tmp/pip-req-build-k0k4y6tv\n",
            "Building wheels for collected packages: NVCCPlugin\n",
            "  Building wheel for NVCCPlugin (setup.py) ... \u001b[?25l\u001b[?25hdone\n",
            "  Created wheel for NVCCPlugin: filename=NVCCPlugin-0.0.2-py3-none-any.whl size=4306 sha256=e47ad72cfb3e963cb01baea018626e5fb2837f8a2c7447351d888d8eece9351c\n",
            "  Stored in directory: /tmp/pip-ephem-wheel-cache-2t29hf8p/wheels/ca/33/8d/3c86eb85e97d2b6169d95c6e8f2c297fdec60db6e84cb56f5e\n",
            "Successfully built NVCCPlugin\n",
            "Installing collected packages: NVCCPlugin\n",
            "Successfully installed NVCCPlugin-0.0.2\n"
          ]
        }
      ]
    },
    {
      "cell_type": "code",
      "source": [
        "%load_ext nvcc_plugin"
      ],
      "metadata": {
        "colab": {
          "base_uri": "https://localhost:8080/"
        },
        "id": "meF9GeCF4CQN",
        "outputId": "74def08c-c908-4f3f-f385-23c88b5cc8c5"
      },
      "execution_count": null,
      "outputs": [
        {
          "output_type": "stream",
          "name": "stdout",
          "text": [
            "created output directory at /content/src\n",
            "Out bin /content/result.out\n"
          ]
        }
      ]
    },
    {
      "cell_type": "code",
      "source": [
        "%%cu\n",
        "#include <cstdlib>\n",
        "#include <iostream>\n",
        "#include <time.h>\n",
        "\n",
        "using namespace std;\n",
        "\n",
        "__global__ void kernel(bool* adj_mat, const int N, bool* visited, int* frontier, bool* new_frontier){\n",
        "\tint row_idx = frontier[blockIdx.x+1]; \n",
        "\tlong offset = N * row_idx;\n",
        "\n",
        "\t// update new_frontier in threads\n",
        "\tint col_idx = threadIdx.x;\t\n",
        "\tif(adj_mat[offset + col_idx] && !visited[col_idx]){\n",
        "\t\tnew_frontier[col_idx] = true;\n",
        "\t}\n",
        "}\n",
        "__global__ void k2(const int N, bool* visited, int* frontier, bool* new_frontier){\n",
        "\tint cn = 0;\n",
        "\tfor(int i=0;i<N;i++){\n",
        "\t\tif(new_frontier[i]){\n",
        "\t\t\tnew_frontier[i] = false;\n",
        "\t\t\tfrontier[++cn] = i;\n",
        "\t\t\tvisited[i] = true;\n",
        "\t\t}\n",
        "\t}\n",
        "\tfrontier[0] = cn;\n",
        "}\n",
        "\n",
        "int main(int arg, char** argv){\n",
        " \n",
        "\n",
        "\tconst int N = 5;\n",
        "\tconst int EDGE_NUM = 10; // exist_edges / N^2\n",
        "\tcout<<\"generating graph of size \"<<N<<\"; edge number: \"<<EDGE_NUM<<endl;\n",
        "\n",
        "\tint** adj_mat = (int**)malloc(N*sizeof(int*));\n",
        "\tfor(int row=0; row<N; row++)\n",
        "\t\tadj_mat[row] = (int*)malloc(N*sizeof(int));\n",
        "\tfor(int i=0;i<N;i++)\n",
        "\t\tfor(int j=0;j<N;j++)\n",
        "\t\t\tadj_mat[i][j]  = 0;\n",
        "\n",
        "\tint n = EDGE_NUM;\n",
        "\twhile(n>0){\n",
        "\t\tint u = rand()%N;\n",
        "\t\tint v = rand()%N;\n",
        "\t\tif(adj_mat[u][v]==0 && u!=v){\n",
        "\t\t\tadj_mat[u][v] = 1;\n",
        "\t\t\tn--;\n",
        "\t\t}\n",
        "\t}\n",
        "\n",
        "\tfor(int i=0;i<N;i++){\n",
        "\t\tfor(int j=0;j<N;j++){\n",
        "\t\t\tcout<<adj_mat[i][j]<<' ';\n",
        "\t\t}\n",
        "\t\tcout<<endl;\n",
        "\t}\n",
        "\n",
        "\n",
        "\n",
        "\t//read graph from <input>.txt\n",
        "\tbool* h_adj_mat = (bool*)malloc(N*N*sizeof(bool));\n",
        "\tfor(int i=0;i<N*N;i++){\n",
        "\t\tstring a;\n",
        "\t\tcin>>a;\n",
        "\t\tif(a==\"1\") h_adj_mat[i] = true;\n",
        "\t\telse h_adj_mat[i] = false;\t\t\n",
        "\t}\n",
        "\n",
        "\t//generate visited and frontier vector; init them with node 0;\n",
        "\tbool* h_visited = (bool*)malloc(N*sizeof(bool));\n",
        "\tfor(int i=0;i<N;i++) h_visited[i] = false;\n",
        "\tint* h_frontier = (int*)malloc(N*sizeof(int));\n",
        "\tbool* h_new_frontier = (bool*)malloc(N*sizeof(bool));\n",
        "\tfor(int i=0;i<N;i++) h_new_frontier[i] = false;\n",
        "\n",
        "\th_visited[0] = true;\n",
        "\th_frontier[0] = 1;\n",
        "\th_frontier[1] = 0;\n",
        "\t\n",
        "\t//malloc mem in gpu\n",
        "\tclock_t start,end, s, e;\n",
        "\tstart = clock();\n",
        "\tbool *d_adj_mat, *d_visited, *d_new_frontier;\n",
        "\tint *d_frontier;\n",
        "\tcudaMalloc((void**) &d_adj_mat, sizeof(bool) * N * N);\n",
        "\tcudaMemcpy((void*) d_adj_mat, (void*) h_adj_mat, sizeof(bool)*N*N, cudaMemcpyHostToDevice);\n",
        "\t\n",
        "\tcudaMalloc((void**) &d_visited, sizeof(bool) * N);\n",
        "\tcudaMemcpy((void*) d_visited, (void*) h_visited, sizeof(bool)*N, cudaMemcpyHostToDevice);\n",
        "\t\n",
        "\tcudaMalloc((void**) &d_frontier, sizeof(int) * (N+1));\n",
        "\tcudaMemcpy((void*) d_frontier, (void*) h_frontier, sizeof(int)*N, cudaMemcpyHostToDevice);\n",
        "\t\n",
        "\tcudaMalloc((void**) &d_new_frontier, sizeof(bool) * N);\n",
        "\tcudaMemcpy((void*) d_new_frontier, (void*) h_new_frontier, sizeof(bool)*N, cudaMemcpyHostToDevice);\n",
        "\n",
        "\t//loop until frontier vector is empty \n",
        "\tint cn =1;\n",
        "\tdouble t=0;\n",
        "\twhile(h_frontier[0]!=0){\n",
        "\t\tcn+=h_frontier[0];\n",
        "\t\t//lauch kernel : launch threads to update frontier_len, visited and frontier in gpu local mem\n",
        "\t\ts= clock();\n",
        "\t\tkernel<<<h_frontier[0], N>>>(d_adj_mat,N,d_visited,d_frontier, d_new_frontier);\n",
        "\t\t\n",
        "\t\tk2<<<1,1>>>(N, d_visited,d_frontier, d_new_frontier);\n",
        "\t\te=clock();\n",
        "\t\tt+=double(e-s);\n",
        "\n",
        "\t\tcudaMemcpy((void*) h_frontier, (void*) d_frontier, sizeof(int)*1, cudaMemcpyDeviceToHost);\n",
        "\t}\n",
        "\tend = clock();\n",
        "\tcout<<\"queue through put: \"<< cn<<endl;\n",
        "\tcout << \"parallel BFS uses \" << double(end - start) << \" us in total\"<< endl;\n",
        "\tcout << \"kernel launching and computing uses \" <<t<<\" us\"<<endl;\n",
        "\tcout << \"mem copy uses \" <<double(end - start) - t<<\" us\"<<endl;\n",
        "\n",
        "\treturn 0;\n",
        "}"
      ],
      "metadata": {
        "id": "Z7iJPj_o4GKb",
        "colab": {
          "base_uri": "https://localhost:8080/"
        },
        "outputId": "e2f52020-91d3-40cf-a9ff-a6ab17d63f50"
      },
      "execution_count": null,
      "outputs": [
        {
          "output_type": "stream",
          "name": "stdout",
          "text": [
            "generating graph of size 5; edge number: 10\n",
            "0 1 0 0 1 \n",
            "0 0 1 1 0 \n",
            "1 1 0 0 1 \n",
            "1 1 0 0 0 \n",
            "0 1 0 0 0 \n",
            "queue through put: 2\n",
            "parallel BFS uses 229511 us in total\n",
            "kernel launching and computing uses 19 us\n",
            "mem copy uses 229492 us\n",
            "\n"
          ]
        }
      ]
    },
    {
      "cell_type": "code",
      "source": [
        "\n",
        "\t"
      ],
      "metadata": {
        "id": "svZktGbLxL8p"
      },
      "execution_count": null,
      "outputs": []
    },
    {
      "cell_type": "code",
      "source": [],
      "metadata": {
        "id": "Rgm_7YjVIkBZ"
      },
      "execution_count": null,
      "outputs": []
    }
  ]
}